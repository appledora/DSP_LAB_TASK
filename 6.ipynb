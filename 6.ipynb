{
 "metadata": {
  "orig_nbformat": 2,
  "kernelspec": {
   "name": "python3",
   "display_name": "Python 3",
   "language": "python"
  }
 },
 "nbformat": 4,
 "nbformat_minor": 2,
 "cells": [
  {
   "source": [
    "### Inverse DFT \n",
    "![alt](https://i.imgur.com/lvYycla.png)"
   ],
   "cell_type": "markdown",
   "metadata": {}
  },
  {
   "cell_type": "code",
   "execution_count": 5,
   "metadata": {},
   "outputs": [],
   "source": [
    "import numpy as np \n",
    "import matplotlib.pyplot as plt "
   ]
  },
  {
   "cell_type": "code",
   "execution_count": 6,
   "metadata": {},
   "outputs": [],
   "source": [
    "def DFT_iterative(x):\n",
    "    \"\"\"Compute the discrete Fourier Transform of the 1D array x\"\"\"\n",
    "    x = np.asarray(x, dtype=float)\n",
    "    N = x.shape[0]\n",
    "    n = np.arange(N)\n",
    "    k = n.reshape((N, 1))\n",
    "    M = np.exp(-2j * np.pi * k * n / N)\n",
    "    return np.dot(M, x)\n",
    "\n",
    "def IDFT_iterative(points):\n",
    "    inversed_points = []\n",
    "    N = len(points)\n",
    "\n",
    "    for k in range(0, N):\n",
    "        s = 0.0\n",
    "        for n in range(0, N - 1):\n",
    "            s += points[n]*np.exp(1.j*2.0*np.pi*k*n/N)\n",
    "        inversed_points.append(s)\n",
    "        \n",
    "    return np.divide(inversed_points,N)\n"
   ]
  },
  {
   "cell_type": "code",
   "execution_count": 7,
   "metadata": {},
   "outputs": [
    {
     "output_type": "stream",
     "name": "stdout",
     "text": [
      "Do both function and library return the same outputs?:  True\n"
     ]
    }
   ],
   "source": [
    "f = 10  # Frequency, in cycles per second, or Hertz\n",
    "f_s = 100  # Sampling rate, or number of measurements per second\n",
    "\n",
    "t = np.linspace(0, 2, 2 * f_s, endpoint=False)\n",
    "x = np.sin(f * 2 * np.pi * t) # Sample, sinusoidal signal\n",
    "\n",
    "\n",
    "# print(\"--------------ORIGINAL SIGNAL--------------------\")\n",
    "# print(x[:5])\n",
    "# print(\"--------------DFT OF SIGNAL--------------------\")\n",
    "val = DFT_iterative(x)\n",
    "# print(val[:5])\n",
    "# print(\"--------------IFT OF SIGNAL WITH EQUATION--------------------\")\n",
    "val_i = IDFT_iterative(val)\n",
    "# print(val_i[:5])\n",
    "# print(\"--------------IFT OF SIGNAL WITH LIBRARY--------------------\")\n",
    "val_i_sc = np.fft.ifft(val)\n",
    "# print(val_i_sc[:5])\n",
    "\n",
    "print(\"Do both function and library return the same outputs?: \",np.allclose(val_i, val_i_sc))"
   ]
  }
 ]
}