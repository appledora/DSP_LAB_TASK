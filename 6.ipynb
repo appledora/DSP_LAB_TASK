{
 "metadata": {
  "orig_nbformat": 2,
  "kernelspec": {
   "name": "python3",
   "display_name": "Python 3",
   "language": "python"
  }
 },
 "nbformat": 4,
 "nbformat_minor": 2,
 "cells": [
  {
   "source": [
    "### Inverse DFT \n",
    "![alt](https://i.imgur.com/lvYycla.png)\n",
    "\n",
    "### DFT \n",
    "![alt text](https://i.imgur.com/EU9uaTy.png)\n"
   ],
   "cell_type": "markdown",
   "metadata": {}
  },
  {
   "cell_type": "code",
   "execution_count": 2,
   "metadata": {},
   "outputs": [],
   "source": [
    "import numpy as np \n",
    "import matplotlib.pyplot as plt \n",
    "import warnings\n",
    "warnings.filterwarnings(\"error\")"
   ]
  },
  {
   "cell_type": "code",
   "execution_count": 1,
   "metadata": {},
   "outputs": [],
   "source": [
    "def DFT_iterative(x):\n",
    "    x = np.asarray(x, dtype=float)\n",
    "    N = x.shape[0]\n",
    "    n = np.arange(N)\n",
    "    k = n.reshape((N, 1))\n",
    "    M = np.exp(-2j * np.pi * k * n / N)\n",
    "    X = np.dot(M, x)\n",
    "    X = [round(y.real,3) + round(y.imag,3)*1j for y in X]\n",
    "    return X"
   ]
  },
  {
   "cell_type": "code",
   "execution_count": null,
   "metadata": {},
   "outputs": [],
   "source": [
    "def IDFT_iterative(X):\n",
    "    X = np.asarray(X, dtype=float)\n",
    "    N = X.shape[0]\n",
    "    n = np.arange(N)\n",
    "    k = n.reshape((N, 1))\n",
    "    M = np.exp(2j * np.pi * k * n / N)\n",
    "    x = np.dot(M, X)/N\n",
    "    # x = [round(y.real,3) + round(y.imag,3)*1j for y in x]\n",
    "    return x \n"
   ]
  },
  {
   "cell_type": "code",
   "execution_count": 35,
   "metadata": {},
   "outputs": [
    {
     "output_type": "stream",
     "name": "stdout",
     "text": [
      "Do both function and library return the same outputs?:  True\n",
      "/home/appledora/miniconda3/envs/gigEnv/lib/python3.8/site-packages/numpy/core/_asarray.py:102: ComplexWarning: Casting complex values to real discards the imaginary part\n",
      "  return array(a, dtype, copy=False, order=order)\n"
     ]
    }
   ],
   "source": [
    "f = 10  # Frequency, in cycles per second, or Hertz\n",
    "f_s = 100  # Sampling rate, or number of measurements per second\n",
    "\n",
    "t = np.linspace(0, 2, 2 * f_s, endpoint=False)\n",
    "x = np.sin(f * 2 * np.pi * t) # Sample, sinusoidal signal\n",
    "\n",
    "\n",
    "# print(\"--------------ORIGINAL SIGNAL--------------------\")\n",
    "# print(x[:5])\n",
    "# print(\"--------------DFT OF SIGNAL--------------------\")\n",
    "val = DFT_iterative(x)\n",
    "# print(val[:5])\n",
    "# print(\"--------------IFT OF SIGNAL WITH EQUATION--------------------\")\n",
    "val_i = IDFT_iterative(val)\n",
    "# print(val_i[:5])\n",
    "# print(\"--------------IFT OF SIGNAL WITH LIBRARY--------------------\")\n",
    "val_i_sc = np.fft.ifft(val)\n",
    "# print(val_i_sc[:5])\n",
    "\n",
    "print(\"Do both function and library return the same outputs?: \",np.allclose(val_i, val_i_sc))"
   ]
  }
 ]
}