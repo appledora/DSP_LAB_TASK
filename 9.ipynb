{
 "metadata": {
  "orig_nbformat": 2,
  "kernelspec": {
   "name": "python3",
   "display_name": "Python 3",
   "language": "python"
  }
 },
 "nbformat": 4,
 "nbformat_minor": 2,
 "cells": [
  {
   "source": [
    "### Compute the FFT of a given signal with N = 8 using Radix-2 algorithm."
   ],
   "cell_type": "markdown",
   "metadata": {}
  },
  {
   "cell_type": "code",
   "execution_count": 43,
   "metadata": {},
   "outputs": [],
   "source": [
    "import numpy as np\n",
    "import matplotlib.pyplot as plt\n",
    "def DFT_iterative(x):\n",
    "    \"\"\"Compute the discrete Fourier Transform of the 1D array x\"\"\"\n",
    "    # x = np.asarray(x, dtype=float)\n",
    "    N = x.shape[0]\n",
    "    n = np.arange(N)\n",
    "    k = n.reshape((N, 1))\n",
    "    M = np.exp(-2j * np.pi * k * n / N)\n",
    "    X = np.dot(M, x)\n",
    "    # X = [round(y.real,3) + round(y.imag,3)*1j for y in X]\n",
    "    return X "
   ]
  },
  {
   "cell_type": "code",
   "execution_count": 44,
   "metadata": {},
   "outputs": [],
   "source": [
    "\n",
    "\n",
    "def FFT_rad(x):\n",
    "    x = np.asarray(x, dtype=float)\n",
    "    N = x.shape[0]\n",
    "    \n",
    "    if N % 2 > 0:\n",
    "        print(\"Signal length must be power of 2\")\n",
    "\n",
    "    elif N <= 8:  \n",
    "        return DFT_iterative(x)\n",
    "    else:\n",
    "        X_even = FFT_rad(x[::2])\n",
    "        X_odd = FFT_rad(x[1::2])\n",
    "        factor = np.exp(-2j * np.pi * np.arange(N) / N)\n",
    "        return np.concatenate([X_even + factor[:N // 2] * X_odd,\n",
    "                               X_even + factor[N // 2:] * X_odd])"
   ]
  },
  {
   "cell_type": "code",
   "execution_count": 45,
   "metadata": {},
   "outputs": [
    {
     "output_type": "execute_result",
     "data": {
      "text/plain": [
       "array([ 6.+0.0000000e+00j, -1.-1.0000000e+00j,  0.-1.2246468e-16j,\n",
       "       -1.+1.0000000e+00j])"
      ]
     },
     "metadata": {},
     "execution_count": 45
    }
   ],
   "source": [
    "x = np.array([1,2,2, 1])\n",
    "X = FFT_rad(x)\n",
    "X\n",
    "# XX = np.fft.fft(x)\n",
    "# print(np.allclose(X,XX))"
   ]
  }
 ]
}