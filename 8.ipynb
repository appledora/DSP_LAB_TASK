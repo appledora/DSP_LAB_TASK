{
 "metadata": {
  "orig_nbformat": 2,
  "kernelspec": {
   "name": "python3",
   "display_name": "Python 3",
   "language": "python"
  }
 },
 "nbformat": 4,
 "nbformat_minor": 2,
 "cells": [
  {
   "source": [
    "### Compute the Fast Fourier Transform (FFT) using divide and conquer approach (e.g N=2 x N/2)\n",
    "A fast Fourier transform, or FFT, is not a new transform, but is a computationally efficient algorithm for the computing the DFT. where X(k) and x(n) are in general complex-valued and 0≤k, n≤N−1, requires N complex multiplies to compute each X(k). Direct computation of all N frequency samples thus requires N^2 complex multiplies and N(N−1) complex additions. \n",
    "\n",
    "The main strategy behind most FFT algorithms is to factor a length-N DFT into a number of shorter-length DFTs, the outputs of which are reused multiple times (usually in additional short-length DFTs!) to compute the final results. The lengths of the short DFTs correspond to integer factors of the DFT length, N, leading to different algorithms for different lengths and factors.\n",
    "\n",
    "Algorithm : \n",
    "1.  Store the signal column-wise\n",
    "\n",
    "2.  Compute the M -point DFT of each row.\n",
    "\n",
    "3.  Multiply the resulting array by the phase factors WlqN.\n",
    "\n",
    "4.  Compute the L-point DFT of each column\n",
    "\n",
    "5.  Read the resulting array row-wise"
   ],
   "cell_type": "markdown",
   "metadata": {}
  },
  {
   "cell_type": "code",
   "execution_count": 1,
   "metadata": {},
   "outputs": [],
   "source": [
    "import numpy as np\n",
    "import matplotlib.pyplot as plt"
   ]
  },
  {
   "cell_type": "code",
   "execution_count": 87,
   "metadata": {},
   "outputs": [],
   "source": [
    "def DFT_iterative(x):\n",
    "    \"\"\"Compute the discrete Fourier Transform of the 1D array x\"\"\"\n",
    "    # x = np.asarray(x, dtype=float)\n",
    "    N = x.shape[0]\n",
    "    n = np.arange(N)\n",
    "    k = n.reshape((N, 1))\n",
    "    M = np.exp(-2j * np.pi * k * n / N)\n",
    "    X = np.dot(M, x)\n",
    "    X = [round(y.real,3) + round(y.imag,3)*1j for y in X]\n",
    "    return X \n",
    "\n",
    "def FFT_dnc(x):\n",
    "    N = len(x)\n",
    "    row = 2\n",
    "    col = N//2\n",
    "    x = np.reshape(x,(row, col), order=\"F\")\n",
    "    row_wise = []\n",
    "    for i in range(x.shape[0]):\n",
    "        row_wise.append(DFT_iterative(x[i, :]))\n",
    "    row_wise = np.array(row_wise)\n",
    "    # print(row_wise)\n",
    "    for r in range(row):\n",
    "        for c in range(col) :\n",
    "            row_wise[r][c] = row_wise[r][c] * np.exp((-2j * np.pi * r *c)/N)\n",
    "    # print(row_wise)\n",
    "\n",
    "    column_wise = []\n",
    "    for i in range(x.shape[1]):\n",
    "        column_wise.append(DFT_iterative(row_wise[:,i]))\n",
    "    column_wise = np.array(column_wise)\n",
    "    for i in range(column_wise.shape[1]):\n",
    "        print(column_wise[:, i].real)\n",
    "    \n",
    "   \n",
    "\n"
   ]
  },
  {
   "cell_type": "code",
   "execution_count": 88,
   "metadata": {},
   "outputs": [
    {
     "output_type": "stream",
     "name": "stdout",
     "text": [
      "[13.  -1.5 -3.5]\n[ 3.  -3.5 -1.5]\nNP function :  [13.  -1.5 -3.5  3.  -3.5 -1.5]\n"
     ]
    }
   ],
   "source": [
    "x = np.array([1,2,2, 1,5,2])\n",
    "FFT_dnc(x)\n",
    "XX = np.fft.fft(x)\n",
    "print(\"NP function : \", XX.real)"
   ]
  }
 ]
}