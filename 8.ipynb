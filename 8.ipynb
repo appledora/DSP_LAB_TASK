{
 "metadata": {
  "orig_nbformat": 2,
  "kernelspec": {
   "name": "python3",
   "display_name": "Python 3",
   "language": "python"
  }
 },
 "nbformat": 4,
 "nbformat_minor": 2,
 "cells": [
  {
   "source": [
    "### Compute the Fast Fourier Transform (FFT) using divide and conquer approach (e.g N=2 x N/2)\n",
    "A fast Fourier transform, or FFT, is not a new transform, but is a computationally efficient algorithm for the computing the DFT. where X(k) and x(n) are in general complex-valued and 0≤k, n≤N−1, requires N complex multiplies to compute each X(k). Direct computation of all N frequency samples thus requires N^2 complex multiplies and N(N−1) complex additions. \n",
    "\n",
    "The main strategy behind most FFT algorithms is to factor a length-N DFT into a number of shorter-length DFTs, the outputs of which are reused multiple times (usually in additional short-length DFTs!) to compute the final results. The lengths of the short DFTs correspond to integer factors of the DFT length, N, leading to different algorithms for different lengths and factors."
   ],
   "cell_type": "markdown",
   "metadata": {}
  },
  {
   "cell_type": "code",
   "execution_count": 17,
   "metadata": {},
   "outputs": [],
   "source": [
    "import numpy as np\n",
    "import matplotlib.pyplot as plt"
   ]
  },
  {
   "cell_type": "code",
   "execution_count": 18,
   "metadata": {},
   "outputs": [],
   "source": [
    "def FFT_dnc(f):\n",
    "    n = len(f)\n",
    "    if n==1:\n",
    "        return [f[0]] # base case\n",
    "\n",
    "    F = n*[0] \n",
    "    f_even = f[0::2] # Divide – even subproblem.\n",
    "    f_odd = f[1::2] # “ - odd subproblem\n",
    "    F_even = FFT_dnc(f_even) # recursive call\n",
    "    F_odd = FFT_dnc(f_odd) # “\n",
    "    n2 = int(n/2) # Prepare to combine results\n",
    "    for i in range(n2):\n",
    "        twiddle = np.exp(-2*np.pi*1j*i/n) \n",
    "        oddTerm = F_odd[i] * twiddle # Odd terms need an adjustment\n",
    "        F[i] = F_even[i] + oddTerm # Compute a new term\n",
    "        F[i+n2] = F_even[i] - oddTerm # Compute one more new term\n",
    "    return F"
   ]
  },
  {
   "cell_type": "code",
   "execution_count": 19,
   "metadata": {},
   "outputs": [
    {
     "output_type": "execute_result",
     "data": {
      "text/plain": [
       "[(13+0j),\n",
       " (5.5-2.598076211353316j),\n",
       " 0j,\n",
       " (3+0j),\n",
       " (2.4999999999999996+2.598076211353316j),\n",
       " 0j]"
      ]
     },
     "metadata": {},
     "execution_count": 19
    }
   ],
   "source": [
    "x = np.array([1,2,2, 1,5,2])\n",
    "X = FFT_dnc(x)\n",
    "X\n",
    "# XX = np.fft.fft(x)\n",
    "# print(np.allclose(X,XX))"
   ]
  }
 ]
}