{
 "metadata": {
  "orig_nbformat": 2,
  "kernelspec": {
   "name": "python3",
   "display_name": "Python 3",
   "language": "python"
  }
 },
 "nbformat": 4,
 "nbformat_minor": 2,
 "cells": [
  {
   "source": [
    "### By means of the DFT and IDFT, determine the response of the FIR filter with impulse response h(n) to the input sequence x(n).\n",
    "At first, we calculate the DFT of the input and impulse response, respectively as X(k) and H(k). Then we multiply these two values to obtain Y(k). Finally, we calculat y(n) = IDFT (Y(k)), which is our answer."
   ],
   "cell_type": "markdown",
   "metadata": {}
  },
  {
   "cell_type": "code",
   "execution_count": 31,
   "metadata": {},
   "outputs": [],
   "source": [
    "import numpy as np \n",
    "import matplotlib.pyplot as plt "
   ]
  },
  {
   "cell_type": "code",
   "execution_count": 32,
   "metadata": {},
   "outputs": [],
   "source": [
    "def DFT_iterative(x):\n",
    "    \"\"\"Compute the discrete Fourier Transform of the 1D array x\"\"\"\n",
    "    # x = np.asarray(x, dtype=float)\n",
    "    N = x.shape[0]\n",
    "    n = np.arange(N)\n",
    "    k = n.reshape((N, 1))\n",
    "    M = np.exp(-2j * np.pi * k * n / N)\n",
    "    X = np.dot(M, x)\n",
    "    X = [round(y.real,3) + round(y.imag,3)*1j for y in X]\n",
    "    return X \n",
    "\n",
    "def IDFT_iterative(X):\n",
    "    # X = np.asarray(X, dtype=float)\n",
    "    N = X.shape[0]\n",
    "    n = np.arange(N)\n",
    "    k = n.reshape((N, 1))\n",
    "    M = np.exp(2j * np.pi * k * n / N)\n",
    "    x = np.dot(M, X)/N \n",
    "    x = [round(y.real,3) + round(y.imag,3)*1j for y in x]\n",
    "    return x\n"
   ]
  },
  {
   "cell_type": "code",
   "execution_count": 33,
   "metadata": {},
   "outputs": [
    {
     "output_type": "stream",
     "name": "stdout",
     "text": [
      "Answer:  [ 1.  4.  9. 11.  8.  3.]\n"
     ]
    }
   ],
   "source": [
    "x = np.array([1,2,2, 1])\n",
    "h = np.array([1,2,3])\n",
    "N1 = np.size(x)\n",
    "N2 = np.size(h)\n",
    "N = N1+N2 - 1\n",
    "y = np.zeros(N)\n",
    "m = N-N1\n",
    "n = N-N2\n",
    "#Padding zeros to x and h to make their length to N\n",
    "x =np.pad(x,(0,m),'constant')\n",
    "h =np.pad(h,(0,n),'constant')\n",
    "X_k = DFT_iterative(x)\n",
    "H_k = DFT_iterative(h)\n",
    "Y_k = np.multiply(X_k, H_k)\n",
    "y = IDFT_iterative(Y_k)\n",
    "print(\"Answer: \", np.absolute(y))\n",
    "# print(\"X_k: \",X_k)\n",
    "# print(\"-----------------------------\")\n",
    "# print(\"H_k: \",H_k)\n",
    "# print(\"-----------------------------\")\n",
    "# print(\"Y_k: \",Y_k)\n",
    "# print(\"-----------------------------\")\n",
    "# print(\"-----------------------------\")\n",
    "# print(\"y_n: \",y)\n",
    "# print(\"--------------------------------...............................----------------------------------------\")\n",
    "\n",
    "# X_ = np.fft.fft(x)\n",
    "# print(\"X_k: \",X_)\n",
    "# print(\"-----------------------------\")\n",
    "\n",
    "# H_ = np.fft.fft(h)\n",
    "# print(\"H_k: \",H_)\n",
    "# print(\"-----------------------------\")\n",
    "\n",
    "# Y_ = np.multiply(X_,H_)\n",
    "# print(\"Y_k: \",Y_)\n",
    "# print(\"-----------------------------\")\n",
    "\n",
    "# y_ = abs(np.fft.ifft(Y_))\n",
    "# print(\"y_: \",y_)\n",
    "# print(\"--------------------------------...............................----------------------------------------\")\n",
    "# print(np.allclose(y,y_))"
   ]
  }
 ]
}