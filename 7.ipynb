{
 "metadata": {
  "orig_nbformat": 2,
  "kernelspec": {
   "name": "python3",
   "display_name": "Python 3",
   "language": "python"
  }
 },
 "nbformat": 4,
 "nbformat_minor": 2,
 "cells": [
  {
   "source": [
    "### By means of the DFT and IDFT, determine the response of the FIR filter with impulse response h(n) to the input sequence x(n).\n",
    "At first, we calculate the DFT of the input and impulse response, respectively as X(k) and H(k). Then we multiply these two values to obtain Y(k). Finally, we calculat y(n) = IDFT (Y(k)), which is our answer."
   ],
   "cell_type": "markdown",
   "metadata": {}
  },
  {
   "cell_type": "code",
   "execution_count": 8,
   "metadata": {},
   "outputs": [],
   "source": [
    "import numpy as np \n",
    "import matplotlib.pyplot as plt "
   ]
  },
  {
   "cell_type": "code",
   "execution_count": 9,
   "metadata": {},
   "outputs": [],
   "source": [
    "def DFT_iterative(x):\n",
    "    \"\"\"Compute the discrete Fourier Transform of the 1D array x\"\"\"\n",
    "    x = np.asarray(x, dtype=float)\n",
    "    N = x.shape[0]\n",
    "    n = np.arange(N)\n",
    "    k = n.reshape((N, 1))\n",
    "    M = np.exp(-2j * np.pi * k * n / N)\n",
    "    return np.dot(M, x)\n",
    "\n",
    "def IDFT_iterative(points):\n",
    "    inversed_points = []\n",
    "    N = len(points)\n",
    "\n",
    "    for k in range(0, N):\n",
    "        s = 0.0\n",
    "        for n in range(0, N - 1):\n",
    "            s += points[n]*np.exp(1.j*2.0*np.pi*k*n/N)\n",
    "        inversed_points.append(s)\n",
    "        \n",
    "    return np.divide(inversed_points,N)\n"
   ]
  },
  {
   "cell_type": "code",
   "execution_count": 10,
   "metadata": {},
   "outputs": [
    {
     "output_type": "stream",
     "name": "stdout",
     "text": [
      "X_k:  [ 6.00000000e+00+0.00000000e+00j  6.66133815e-16-3.46410162e+00j\n -4.44089210e-16-4.44089210e-16j  0.00000000e+00-1.22464680e-16j\n  6.66133815e-16-1.11022302e-15j -3.99680289e-15+3.46410162e+00j]\n-----------------------------\nH_k:  [ 6. +0.00000000e+00j  0.5-4.33012702e+00j -1.5+8.66025404e-01j\n  2. +4.89858720e-16j -1.5-8.66025404e-01j  0.5+4.33012702e+00j]\n-----------------------------\nY_k:  [ 3.60000000e+01+0.00000000e+00j -1.50000000e+01-1.73205081e+00j\n  1.05072635e-15+2.81541277e-16j  5.99903913e-32-2.44929360e-16j\n -1.96068207e-15+1.08844573e-15j -1.50000000e+01+1.73205081e+00j]\n-----------------------------\n-----------------------------\ny_n:  [3.5-0.28867513j 5. -2.30940108j 7.5-2.02072594j 8.5+0.28867513j\n 7. +2.30940108j 4.5+2.02072594j]\n--------------------------------...............................----------------------------------------\n"
     ]
    }
   ],
   "source": [
    "x = np.array([1,2,2, 1])\n",
    "h = np.array([1,2,3])\n",
    "N1 = np.size(x)\n",
    "N2 = np.size(h)\n",
    "N = N1+N2 - 1\n",
    "y = np.zeros(N)\n",
    "m = N-N1\n",
    "n = N-N2\n",
    "#Padding zeros to x and h to make their length to N\n",
    "x =np.pad(x,(0,m),'constant')\n",
    "h =np.pad(h,(0,n),'constant')\n",
    "X_k = DFT_iterative(x)\n",
    "H_k = DFT_iterative(h)\n",
    "print(\"X_k: \",X_k)\n",
    "print(\"-----------------------------\")\n",
    "print(\"H_k: \",H_k)\n",
    "print(\"-----------------------------\")\n",
    "Y_k = np.multiply(X_k, H_k)\n",
    "print(\"Y_k: \",Y_k)\n",
    "print(\"-----------------------------\")\n",
    "y = IDFT_iterative(Y_k)\n",
    "print(\"-----------------------------\")\n",
    "print(\"y_n: \",y)\n",
    "print(\"--------------------------------...............................----------------------------------------\")\n",
    "\n",
    "# X_ = np.fft.fft(x)\n",
    "# print(\"X_k: \",X_)\n",
    "# print(\"-----------------------------\")\n",
    "\n",
    "# H_ = np.fft.fft(h)\n",
    "# print(\"H_k: \",H_)\n",
    "# print(\"-----------------------------\")\n",
    "\n",
    "# Y_ = np.multiply(X_,H_)\n",
    "# print(\"Y_k: \",Y_)\n",
    "# print(\"-----------------------------\")\n",
    "\n",
    "# y_ = np.fft.ifft(Y_)\n",
    "# print(np.allclose(y,y_))"
   ]
  }
 ]
}