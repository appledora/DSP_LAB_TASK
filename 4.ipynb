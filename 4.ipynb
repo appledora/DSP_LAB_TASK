{
 "metadata": {
  "language_info": {
   "codemirror_mode": {
    "name": "ipython",
    "version": 3
   },
   "file_extension": ".py",
   "mimetype": "text/x-python",
   "name": "python",
   "nbconvert_exporter": "python",
   "pygments_lexer": "ipython3",
   "version": 3
  },
  "orig_nbformat": 2
 },
 "nbformat": 4,
 "nbformat_minor": 2,
 "cells": [
  {
   "source": [
    "### Determine the autocorrelation sequence of the signal x(n).\n",
    "This is a type of correlation in which the given signal is correlated with itself, usually the time-shifted version of itself.\n",
    "\n",
    "![alt text](https://i.imgur.com/kgusEaz.png)"
   ],
   "cell_type": "markdown",
   "metadata": {}
  },
  {
   "cell_type": "code",
   "execution_count": null,
   "metadata": {},
   "outputs": [],
   "source": [
    "import numpy as np\n",
    "import matplotlib.pyplot as plt "
   ]
  },
  {
   "cell_type": "code",
   "execution_count": null,
   "metadata": {},
   "outputs": [],
   "source": [
    "x = np.random.randint(-5,3,5)\n",
    "N1 = np.size(x)\n",
    "h = np.zeros(N1)\n",
    "N2 = np.size(x)\n",
    "N = N1+N2-1\n",
    "y = np.zeros(N)\n",
    "for i in range (N1):\n",
    "    h[N1-1-i]=x[i]\n",
    "\n",
    "\n",
    "#Correlation using Correlation built-in function in NumPY\n",
    "y1 = np.correlate(x,x,'full')\n",
    "\n",
    "m = N-N1\n",
    "n = N-N2\n",
    "#Padding zeros to x and h to make their length to N\n",
    "x =np.pad(x,(0,m),'constant')\n",
    "h =np.pad(h,(0,n),'constant')\n",
    "\n",
    "#correlation using formula\n",
    "for n in range (N):\n",
    "    for k in range (N):\n",
    "        if n >= k:\n",
    "             y[n] = y[n]+x[n-k]*h[k]\n",
    "         \n",
    "print('Auto correlation using NumPy correlation built-in function - correlation result  y=\\n',y1)\n",
    "\n",
    "print('correlation using formula - correlation result y =\\n',y)\n",
    "print(\"Do both return same outputs?: \", np.allclose(y, y1))\n",
    "\n",
    "plt.stem(y)\n",
    "plt.xlabel('Sample Points')\n",
    "plt.ylabel('Amplitude  ')\n",
    "plt.title('AUto-correlation Signal')\n",
    "plt.grid(True)\n",
    "plt.show()"
   ]
  }
 ]
}